{
 "cells": [
  {
   "cell_type": "code",
   "execution_count": 58,
   "id": "26a23fad",
   "metadata": {},
   "outputs": [],
   "source": [
    "from langgraph.graph import StateGraph, START, END\n",
    "from langchain_groq import ChatGroq\n",
    "from typing import TypedDict\n",
    "from dotenv import load_dotenv\n"
   ]
  },
  {
   "cell_type": "code",
   "execution_count": 59,
   "id": "4bd029e0",
   "metadata": {},
   "outputs": [
    {
     "data": {
      "text/plain": [
       "True"
      ]
     },
     "execution_count": 59,
     "metadata": {},
     "output_type": "execute_result"
    }
   ],
   "source": [
    "load_dotenv()"
   ]
  },
  {
   "cell_type": "code",
   "execution_count": 60,
   "id": "c7250bea",
   "metadata": {},
   "outputs": [],
   "source": [
    "\n",
    "\n",
    "model = ChatGroq(model=\"qwen/qwen3-32b\")"
   ]
  },
  {
   "cell_type": "code",
   "execution_count": 61,
   "id": "2624e2c5",
   "metadata": {},
   "outputs": [],
   "source": [
    "# create a state\n",
    "\n",
    "class LLMState(TypedDict):\n",
    "    question: str\n",
    "    answer: str"
   ]
  },
  {
   "cell_type": "code",
   "execution_count": 62,
   "id": "70a5fec7",
   "metadata": {},
   "outputs": [],
   "source": [
    "def llm_qa(state: LLMState) -> LLMState:\n",
    "\n",
    "    question = state['question']\n",
    "\n",
    "    prompt = f'Answer the following question: {question}'\n",
    "\n",
    "    answer = model.invoke(prompt).content\n",
    "\n",
    "    state['answer'] = answer\n",
    "\n",
    "    return state"
   ]
  },
  {
   "cell_type": "code",
   "execution_count": 63,
   "id": "e8ff4390",
   "metadata": {},
   "outputs": [],
   "source": [
    "# create our graph\n",
    "\n",
    "graph = StateGraph(LLMState)\n",
    "\n",
    "#add a nodes\n",
    "graph.add_node('llm_qa', llm_qa)\n",
    "\n",
    "graph.add_edge(START, 'llm_qa')\n",
    "graph.add_edge('llm_qa', END)\n",
    "\n",
    "workflow = graph.compile()\n",
    "\n"
   ]
  },
  {
   "cell_type": "code",
   "execution_count": 64,
   "id": "8c5f53b6",
   "metadata": {},
   "outputs": [
    {
     "name": "stdout",
     "output_type": "stream",
     "text": [
      "{'question': 'how far a moom is from the earth?', 'answer': '<think>\\nOkay, so the user is asking \"how far a moon is from the earth.\" First, I need to confirm if they meant the Moon or if there\\'s a typo. Since \"moon\" is singular and the Earth\\'s natural satellite is the Moon, it\\'s likely a typo. The correct spelling is Moon with a capital \\'M\\', but since they wrote it in lowercase, maybe it\\'s just a mistake.\\n\\nNow, the average distance from the Earth to the Moon is something I remember, but I should double-check. I think it\\'s about 384,400 kilometers. But wait, the distance varies because the Moon\\'s orbit is elliptical, not circular. So there\\'s a closest point called perigee and a farthest point called apogee. The average is around 384,400 km, but perigee can be as close as 363,300 km and apogee up to 405,500 km. \\n\\nI should also consider units. The question doesn\\'t specify, so maybe provide both kilometers and miles? Let me convert 384,400 km to miles. 1 km is approximately 0.621371 miles. Multiplying 384,400 by 0.621371 gives roughly 238,855 miles. \\n\\nWait, but the user might want a concise answer. They might just need the average distance without going into perigee and apogee unless asked. Also, maybe mention that it\\'s about a light-second away? Light travels at 299,792 km/s, so dividing the average distance by that speed gives around 1.28 light-seconds. But maybe that\\'s extra info. \\n\\nLet me verify the exact numbers. NASA\\'s Moon factsheet says the average distance is 384,400 km. Perigee is about 363,104 km, and apogee is 405,696 km. So my initial numbers were close. The average is correct.\\n\\nSo, to answer the user, the average distance from Earth to the Moon is approximately 384,400 kilometers or 238,855 miles. Also, note that this distance varies due to the Moon\\'s elliptical orbit. Make sure to mention that it\\'s not a fixed distance but an average. Check if there are any other possible interpretations. The user might be confused if there\\'s another \"moon\" in the solar system, but the question is about the Earth\\'s Moon. So clarify that it\\'s the Earth\\'s Moon they\\'re asking about. \\n\\nNo, the user didn\\'t mention any other moon. So the answer should be straightforward: average distance, with the note about elliptical orbit. Maybe also mention that this distance is about 30 times Earth\\'s diameter. Earth\\'s diameter is about 12,742 km, so 30 times that is 382,260 km, which is close to the average distance. That\\'s a helpful comparison for visualization. \\n\\nSo putting it all together: The average distance is 384,400 km (238,855 mi), varying between perigee and apogee. Maybe also add the light-second part as a fun fact. Let me check the light travel time again. At 384,400 km, light takes about 1.28 seconds to travel that distance. Correct. So the Moon is about 1.28 light-seconds away. \\n\\nI should also mention that the distance is increasing very slightly over time due to tidal interactions, but that\\'s probably more detailed than needed here. The user might just want the current average. \\n\\nSo the final answer should include the average distance in both kilometers and miles, mention the variation due to elliptical orbit, and perhaps the light travel time as an additional point. Make sure the units are clear and the numbers are accurate.\\n</think>\\n\\nThe average distance from the Earth to the Moon is approximately **384,400 kilometers (238,855 miles)**. However, this distance varies slightly because the Moon\\'s orbit around Earth is elliptical rather than circular:\\n\\n- **Perigee** (closest approach): About **363,300 km (225,700 miles)**  \\n- **Apogee** (farthest point): About **405,500 km (252,000 miles)**  \\n\\n### Additional Context:\\n- **Light travel time**: The Moon is roughly **1.28 light-seconds** away from Earth. Light (or radio signals) takes about **1.3 seconds** to travel this distance.\\n- **Comparative scale**: The average distance is roughly **30 times Earth\\'s diameter** (Earth’s diameter is ~12,742 km).\\n\\nThis distance is not fixed—it increases by about **3.8 centimeters per year** due to tidal interactions between Earth and the Moon.'}\n"
     ]
    }
   ],
   "source": [
    "inital_state = {'question': 'how far a moom is from the earth?'}\n",
    "final_state = workflow.invoke(inital_state)\n",
    "print(final_state)\n"
   ]
  },
  {
   "cell_type": "code",
   "execution_count": 67,
   "id": "0dfde5a1",
   "metadata": {},
   "outputs": [
    {
     "data": {
      "text/plain": [
       "\" average distance, with the note about elliptical orbit. Maybe also mention that this distance is about 30 times Earth's diameter. Earth's diameter is about 12,742 km, so 30 times that is 382,260 km, which is close to the average distance. That's a helpful comparison for visualization. \\n\\nSo putting it all together\""
      ]
     },
     "execution_count": 67,
     "metadata": {},
     "output_type": "execute_result"
    }
   ],
   "source": [
    "final_state['answer'].split(':')[1]"
   ]
  },
  {
   "cell_type": "code",
   "execution_count": 69,
   "id": "c4e1c490",
   "metadata": {},
   "outputs": [
    {
     "name": "stdout",
     "output_type": "stream",
     "text": [
      " average distance, with the note about elliptical orbit. Maybe also mention that this distance is about 30 times Earth's diameter. Earth's diameter is about 12,742 km, so 30 times that is 382,260 km, which is close to the average distance. That's a helpful comparison for visualization. \n",
      "\n",
      "So putting it all together\n"
     ]
    }
   ],
   "source": [
    "print(final_state['answer'].split(':')[1])"
   ]
  },
  {
   "cell_type": "code",
   "execution_count": null,
   "id": "fe3c5194",
   "metadata": {},
   "outputs": [],
   "source": []
  }
 ],
 "metadata": {
  "kernelspec": {
   "display_name": "langgraph-tutorials",
   "language": "python",
   "name": "python3"
  },
  "language_info": {
   "codemirror_mode": {
    "name": "ipython",
    "version": 3
   },
   "file_extension": ".py",
   "mimetype": "text/x-python",
   "name": "python",
   "nbconvert_exporter": "python",
   "pygments_lexer": "ipython3",
   "version": "3.12.3"
  }
 },
 "nbformat": 4,
 "nbformat_minor": 5
}
